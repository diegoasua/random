{
 "cells": [
  {
   "cell_type": "markdown",
   "metadata": {},
   "source": [
    "The Collatz conjecture is very simple. It argues that given any positive integer $ k : \\mathbb{Z}^{+} $ and iteratively following two simple rules, one always reaches 1:\n",
    "\n",
    "$k_{n+1}=\\begin{equation}\n",
    "\\left\\{ \n",
    "  \\begin{aligned}\n",
    "    \\dfrac{k _{n}}{2} \\quad if \\quad k_{n} \\equiv 0 \\quad (mod \\; 2) \\\\\n",
    "    3k_{n}+1 \\quad if \\quad k_{n} \\equiv 1 \\quad (mod \\; 2)\n",
    "  \\end{aligned}\n",
    "  \\right.\n",
    "\\end{equation} $\n",
    "\n",
    "This is, halve if the number is even, or multiply by 3 and add a unit of the number is odd. Here is some code you can use to play around with the conjecture. And the [wikipedia page](https://en.wikipedia.org/wiki/Collatz_conjecture) is an excelent resource as well."
   ]
  },
  {
   "cell_type": "markdown",
   "metadata": {},
   "source": [
    "#### Run the cell below to obtain the Collatz sequence of a given integer"
   ]
  },
  {
   "cell_type": "code",
   "execution_count": 33,
   "metadata": {},
   "outputs": [
    {
     "name": "stdin",
     "output_type": "stream",
     "text": [
      "Enter Starting Number:  27\n"
     ]
    },
    {
     "name": "stdout",
     "output_type": "stream",
     "text": [
      "\n",
      "\n",
      "27,  82,  41,  124,  62,  31,  94,  47,  142,  71,  214,  107,  322,  161,  484,  242,  121,  364,  182,  91,  274,  137,  412,  206,  103,  310,  155,  466,  233,  700,  350,  175,  526,  263,  790,  395,  1186,  593,  1780,  890,  445,  1336,  668,  334,  167,  502,  251,  754,  377,  1132,  566,  283,  850,  425,  1276,  638,  319,  958,  479,  1438,  719,  2158,  1079,  3238,  1619,  4858,  2429,  7288,  3644,  1822,  911,  2734,  1367,  4102,  2051,  6154,  3077,  9232,  4616,  2308,  1154,  577,  1732,  866,  433,  1300,  650,  325,  976,  488,  244,  122,  61,  184,  92,  46,  23,  70,  35,  106,  53,  160,  80,  40,  20,  10,  5,  16,  8,  4,  2,  1"
     ]
    }
   ],
   "source": [
    "n = int(input(\"Enter Starting Number: \"))\n",
    "print('\\n')\n",
    "print(n, end=\"\", flush=True)\n",
    "while n != 1:\n",
    "    if (n % 2 == 0):\n",
    "        n = n/2\n",
    "        print(\", \", int(n), end=\"\", flush=True)\n",
    "    else:\n",
    "        n = (3*n)+1\n",
    "        print(\", \", int(n), end=\"\", flush=True)"
   ]
  },
  {
   "cell_type": "markdown",
   "metadata": {},
   "source": [
    "#### Run the cell below to check if the \"n\" first integers converge to 1"
   ]
  },
  {
   "cell_type": "code",
   "execution_count": 30,
   "metadata": {},
   "outputs": [
    {
     "name": "stdin",
     "output_type": "stream",
     "text": [
      "Enter upper top (at least 20):  1000000\n"
     ]
    },
    {
     "name": "stdout",
     "output_type": "stream",
     "text": [
      "\n",
      "\n",
      "All numbers until 50,000 converge to 1\n",
      "All numbers until 100,000 converge to 1\n",
      "All numbers until 150,000 converge to 1\n",
      "All numbers until 200,000 converge to 1\n",
      "All numbers until 250,000 converge to 1\n",
      "All numbers until 300,000 converge to 1\n",
      "All numbers until 350,000 converge to 1\n",
      "All numbers until 400,000 converge to 1\n",
      "All numbers until 450,000 converge to 1\n",
      "All numbers until 500,000 converge to 1\n",
      "All numbers until 550,000 converge to 1\n",
      "All numbers until 600,000 converge to 1\n",
      "All numbers until 650,000 converge to 1\n",
      "All numbers until 700,000 converge to 1\n",
      "All numbers until 750,000 converge to 1\n",
      "All numbers until 800,000 converge to 1\n",
      "All numbers until 850,000 converge to 1\n",
      "All numbers until 900,000 converge to 1\n",
      "All numbers until 950,000 converge to 1\n",
      "All numbers until 1,000,000 converge to 1\n",
      "\n",
      "\n",
      "Computation time: 31.889 seconds\n"
     ]
    }
   ],
   "source": [
    "upper_bound = int(input(\"Enter upper top (at least 20): \"))\n",
    "print('\\n')\n",
    "import time\n",
    "start = time.time()\n",
    "for ii in range(k):\n",
    "    n = ii + 1\n",
    "    while n != 1 :\n",
    "        if n % 2 == 0 :\n",
    "            n = n/2\n",
    "        else:\n",
    "            n = 3*n+1\n",
    "    if (ii + 1) % int(upper_bound/20) == 0 :\n",
    "        print('All numbers until {:,} converge to 1'.format(ii + 1))\n",
    "stop = time.time()\n",
    "elapsed = stop - start\n",
    "print('\\n')\n",
    "print('Computation time: {:.3f} seconds'.format(elapsed))"
   ]
  }
 ],
 "metadata": {
  "kernelspec": {
   "display_name": "Python 3",
   "language": "python",
   "name": "python3"
  },
  "language_info": {
   "codemirror_mode": {
    "name": "ipython",
    "version": 3
   },
   "file_extension": ".py",
   "mimetype": "text/x-python",
   "name": "python",
   "nbconvert_exporter": "python",
   "pygments_lexer": "ipython3",
   "version": "3.7.7"
  }
 },
 "nbformat": 4,
 "nbformat_minor": 4
}
